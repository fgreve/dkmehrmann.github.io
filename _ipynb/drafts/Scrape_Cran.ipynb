{
 "cells": [
  {
   "cell_type": "code",
   "execution_count": 42,
   "metadata": {
    "collapsed": true
   },
   "outputs": [],
   "source": [
    "from lxml import html\n",
    "import requests\n",
    "from time import sleep\n",
    "import json"
   ]
  },
  {
   "cell_type": "code",
   "execution_count": 9,
   "metadata": {
    "collapsed": true
   },
   "outputs": [],
   "source": [
    "base_url = \"https://cran.r-project.org/\""
   ]
  },
  {
   "cell_type": "code",
   "execution_count": 40,
   "metadata": {
    "collapsed": false
   },
   "outputs": [],
   "source": [
    "def get_package_names(base_url, max_iter=10000):\n",
    "    url = base_url + \"web/packages/available_packages_by_name.html\"\n",
    "    page = requests.get(url)\n",
    "    tree = html.fromstring(page.content)\n",
    "    \n",
    "    result = []\n",
    "    for i in range(2,max_iter):   \n",
    "        pkg_xpath = '//tr[{0}]/td[1]/a/text()'\n",
    "        pkg_name = tree.xpath(pkg_xpath.format(i))\n",
    "        if pkg_name != []:\n",
    "            result.append(str(pkg_name[0]))\n",
    "            miss_count = 0\n",
    "        else: # might be end, but might be just a skipped row\n",
    "            miss_count += 1\n",
    "            if miss_count == 2: # if two misses then call it quits\n",
    "                break\n",
    "    return result\n",
    "\n",
    "def build_urls(base_url, package_names):\n",
    "    \n",
    "    if type(package_names) == list:\n",
    "        urls = [base_url + \n",
    "                'web/packages/{0}/index.html'.format(x) \n",
    "                for x in package_names]\n",
    "        return urls\n",
    "    elif type(package_names) == str:\n",
    "        urls = base_url + 'web/packages/{0}/index.html'.format(package_names) \n",
    "        return urls\n",
    "    else:\n",
    "        raise TypeError(\"package_names must be string or list\")\n",
    "\n",
    "def get_depends(base_url, package_names):\n",
    "    \n",
    "    \n",
    "    i = 1\n",
    "    result = {}\n",
    "    \n",
    "    for pkg in package_names:    \n",
    "        url = build_urls(base_url, pkg)\n",
    "        page = requests.get(url)\n",
    "        tree = html.fromstring(page.content)\n",
    "        depends = tree.xpath(\"*//table[1]/tr[2]/td[2]/a/text()\")\n",
    "        result[pkg] = depends\n",
    "        sleep(2)\n",
    "        i += 1\n",
    "        if i%100 == 0:\n",
    "            print(\"retrieved {0} of {1} package dependencies\"\\\n",
    "                  .format(i, len(package_names)))\n",
    "    \n",
    "    return(result)\n",
    "    "
   ]
  },
  {
   "cell_type": "code",
   "execution_count": 33,
   "metadata": {
    "collapsed": false
   },
   "outputs": [
    {
     "data": {
      "text/plain": [
       "['A3',\n",
       " 'abbyyR',\n",
       " 'abc',\n",
       " 'ABCanalysis',\n",
       " 'abc.data',\n",
       " 'abcdeFBA',\n",
       " 'ABCoptim',\n",
       " 'ABCp2',\n",
       " 'abcrf',\n",
       " 'abctools']"
      ]
     },
     "execution_count": 33,
     "metadata": {},
     "output_type": "execute_result"
    }
   ],
   "source": [
    "a = get_package_names(base_url)\n",
    "a[:10]"
   ]
  },
  {
   "cell_type": "code",
   "execution_count": 34,
   "metadata": {
    "collapsed": false
   },
   "outputs": [
    {
     "name": "stdout",
     "output_type": "stream",
     "text": [
      "A3 <class 'str'>\n"
     ]
    }
   ],
   "source": [
    "print(a[0], type(a[0]))"
   ]
  },
  {
   "cell_type": "code",
   "execution_count": 35,
   "metadata": {
    "collapsed": false
   },
   "outputs": [
    {
     "data": {
      "text/plain": [
       "'https://cran.r-project.org/web/packages/A3/index.html'"
      ]
     },
     "execution_count": 35,
     "metadata": {},
     "output_type": "execute_result"
    }
   ],
   "source": [
    "b = build_urls(base_url, a[0])\n",
    "b"
   ]
  },
  {
   "cell_type": "code",
   "execution_count": 36,
   "metadata": {
    "collapsed": false
   },
   "outputs": [
    {
     "data": {
      "text/plain": [
       "['https://cran.r-project.org/web/packages/A3/index.html',\n",
       " 'https://cran.r-project.org/web/packages/abbyyR/index.html',\n",
       " 'https://cran.r-project.org/web/packages/abc/index.html',\n",
       " 'https://cran.r-project.org/web/packages/ABCanalysis/index.html',\n",
       " 'https://cran.r-project.org/web/packages/abc.data/index.html',\n",
       " 'https://cran.r-project.org/web/packages/abcdeFBA/index.html',\n",
       " 'https://cran.r-project.org/web/packages/ABCoptim/index.html',\n",
       " 'https://cran.r-project.org/web/packages/ABCp2/index.html',\n",
       " 'https://cran.r-project.org/web/packages/abcrf/index.html',\n",
       " 'https://cran.r-project.org/web/packages/abctools/index.html']"
      ]
     },
     "execution_count": 36,
     "metadata": {},
     "output_type": "execute_result"
    }
   ],
   "source": [
    "c = build_urls(base_url, a)\n",
    "c[:10]"
   ]
  },
  {
   "cell_type": "code",
   "execution_count": 41,
   "metadata": {
    "collapsed": false
   },
   "outputs": [],
   "source": [
    "d = get_depends(base_url, a[:10])"
   ]
  },
  {
   "cell_type": "code",
   "execution_count": 43,
   "metadata": {
    "collapsed": true
   },
   "outputs": [],
   "source": [
    "with open('test.json', 'w') as fp:\n",
    "    json.dump(d, fp)"
   ]
  },
  {
   "cell_type": "code",
   "execution_count": 44,
   "metadata": {
    "collapsed": false
   },
   "outputs": [
    {
     "data": {
      "text/plain": [
       "10"
      ]
     },
     "execution_count": 44,
     "metadata": {},
     "output_type": "execute_result"
    }
   ],
   "source": [
    "len(d)"
   ]
  },
  {
   "cell_type": "markdown",
   "metadata": {},
   "source": [
    "References:\n",
    "* http://blog.revolutionanalytics.com/2015/06/fishing-for-packages-in-cran.html\n",
    "* https://renkun.me/blog/2014/07/29/scraping-information-of-cran-packages.html"
   ]
  },
  {
   "cell_type": "code",
   "execution_count": 46,
   "metadata": {
    "collapsed": false
   },
   "outputs": [],
   "source": [
    "with open('test.json','r') as f:\n",
    "    e = json.load(f)"
   ]
  },
  {
   "cell_type": "code",
   "execution_count": null,
   "metadata": {
    "collapsed": true
   },
   "outputs": [],
   "source": []
  }
 ],
 "metadata": {
  "kernelspec": {
   "display_name": "Python 3",
   "language": "python",
   "name": "python3"
  },
  "language_info": {
   "codemirror_mode": {
    "name": "ipython",
    "version": 3
   },
   "file_extension": ".py",
   "mimetype": "text/x-python",
   "name": "python",
   "nbconvert_exporter": "python",
   "pygments_lexer": "ipython3",
   "version": "3.4.3"
  },
  "widgets": {
   "state": {},
   "version": "1.1.2"
  }
 },
 "nbformat": 4,
 "nbformat_minor": 0
}
