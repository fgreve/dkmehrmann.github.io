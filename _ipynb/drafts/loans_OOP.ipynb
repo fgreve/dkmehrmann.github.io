{
 "cells": [
  {
   "cell_type": "code",
   "execution_count": 2,
   "metadata": {
    "collapsed": true
   },
   "outputs": [],
   "source": [
    "%matplotlib inline"
   ]
  },
  {
   "cell_type": "code",
   "execution_count": 3,
   "metadata": {
    "collapsed": true
   },
   "outputs": [],
   "source": [
    "import datetime\n",
    "import pandas as pd\n",
    "import numpy as np"
   ]
  },
  {
   "cell_type": "code",
   "execution_count": 4,
   "metadata": {
    "collapsed": false
   },
   "outputs": [],
   "source": [
    "class loan:\n",
    "    def __init__(self, name, princ, i_rate, i_start_date, today=datetime.date.today()):\n",
    "        self.name = name\n",
    "        self.princ = princ\n",
    "        self.i_rate = i_rate\n",
    "        self.i_start_date = i_start_date\n",
    "        self.today = today\n",
    "        \n",
    "        days = (today-i_start_date).days\n",
    "        if days <= 0:\n",
    "            days = 0\n",
    "            \n",
    "        self.i_accrued = self.calc_interest(i_start_date, today)\n",
    "        self.total = self.princ + self.i_accrued\n",
    "        \n",
    "    def calc_interest(self, start, end):\n",
    "        if start < self.i_start_date:\n",
    "            return 0\n",
    "        days = (end - start).days\n",
    "        if days <= 0:\n",
    "            days = 0\n",
    "        return days * self.i_rate * self.princ / 365        \n",
    "    \n",
    "    def pass_month(self):\n",
    "        days_per_month = 365.25/12\n",
    "        next_time = self.today + datetime.timedelta(days = days_per_month)\n",
    "        \n",
    "        self.i_accrued += self.calc_interest(self.today, next_time)\n",
    "        \n",
    "        self.today = next_time\n",
    "        self.total = self.princ + self.i_accrued        \n",
    "        \n",
    "    \n",
    "    def make_payment(self, amt):\n",
    "        \n",
    "        if amt > self.i_accrued:\n",
    "            amt -= self.i_accrued\n",
    "            self.i_accrued = 0\n",
    "            if amt > self.princ:\n",
    "                amt -= self.princ\n",
    "                self.princ = 0\n",
    "            else:\n",
    "                self.princ -= amt\n",
    "                amt = 0\n",
    "        else:\n",
    "            self.i_accrued -= amt\n",
    "            amt = 0\n",
    "        \n",
    "        self.total = self.princ + self.i_accrued\n",
    "        \n",
    "            \n",
    "        return amt\n",
    "            \n",
    "        \n",
    "    def __str__(self):\n",
    "        q = 'Name: {0}\\nPrincipal: {1}\\nInterest Rate: {2:0.2%}\\nTotal: {3:0.2f}'\n",
    "        return q.format(self.name, self.princ, self.i_rate, self.total)\n",
    "    \n",
    "    \n",
    "class portfolio:\n",
    "    def __init__(self):\n",
    "        self.loans = []\n",
    "        self.total = 0\n",
    "        self.payments_made = 0\n",
    "    \n",
    "    def add_loan(self, one_loan):\n",
    "        self.loans.append(one_loan)\n",
    "        self.total += one_loan.total\n",
    "        \n",
    "    def __str__(self):\n",
    "        for l in self.loans:\n",
    "            print(l, \"\\n\")\n",
    "            \n",
    "        total = sum([x.total for x in self.loans])\n",
    "        return \"Total Portfolio Size: {0:0.2f}\".format(total)\n",
    "    \n",
    "    def pass_month(self):\n",
    "        for x in self.loans:\n",
    "            x.pass_month()\n",
    "        self.total = sum([x.total for x in self.loans])\n",
    "        \n",
    "        return self\n",
    "    \n",
    "    def make_payment(self, amt):\n",
    "        \n",
    "        df = pd.DataFrame({\n",
    "            'interest': [x.i_rate for x in p.loans],\n",
    "            'principal': [x.princ for x in p.loans]\n",
    "        })\n",
    "        \n",
    "        priorities = df.sort(['interest', 'principal'], ascending=False).index\n",
    "        \n",
    "        self.total = sum([x.total for x in self.loans])\n",
    "        \n",
    "        for l in priorities:\n",
    "            amt = p.loans[l].make_payment(amt)\n",
    "            self.total = sum([x.total for x in self.loans])\n",
    "            if amt == 0 or self.total <= 0:\n",
    "                break\n",
    "                \n",
    "        self.payments_made += 1\n",
    "\n",
    "        return self\n",
    "    \n",
    "    def pay_loans(self, monthly):\n",
    "        \n",
    "        while self.total > 0:\n",
    "            prev_tot = self.total\n",
    "            self.make_payment(monthly).pass_month()\n",
    "\n",
    "        print(\"Paid off in {0} months at ${1} per month\".format(self.payments_made, monthly))\n",
    "        print(\"Total paid ${0}\".format(self.payments_made * monthly -(monthly - prev_tot)))"
   ]
  },
  {
   "cell_type": "markdown",
   "metadata": {},
   "source": [
    "# Payment Under Normal Conditions"
   ]
  },
  {
   "cell_type": "code",
   "execution_count": 36,
   "metadata": {
    "collapsed": false
   },
   "outputs": [
    {
     "name": "stdout",
     "output_type": "stream",
     "text": [
      "31902.13479452055\n"
     ]
    }
   ],
   "source": [
    "su = loan('institution', 3000, 0.050, datetime.date(2017, 5, 10))\n",
    "s1 = loan('s1', 3500, 0.034, datetime.date(2017, 5, 10))\n",
    "s3 = loan('s3', 4500, 0.034, datetime.date(2017, 5, 10))\n",
    "s5 = loan('s5', 4500, .0386, datetime.date(2017, 5, 10))\n",
    "s7 = loan('s7', 4500, .0466, datetime.date(2017, 5, 10))\n",
    "\n",
    "u2 = loan('u2', 2000, 0.068, datetime.date(2011, 8, 14))\n",
    "u4 = loan('u4', 2000, 0.068, datetime.date(2012, 8, 19))\n",
    "u6 = loan('u6', 2000, .0386, datetime.date(2013, 8, 18))\n",
    "u8 = loan('u8', 2000, .0466, datetime.date(2014, 8, 17))\n",
    "u9 = loan('u9', 2000, .0584, datetime.date(2015, 8, 16))\n",
    "\n",
    "p = portfolio()\n",
    "p.add_loan(su); p.add_loan(s1);\n",
    "p.add_loan(u2); p.add_loan(s3);\n",
    "p.add_loan(u4); p.add_loan(s5);\n",
    "p.add_loan(u6); p.add_loan(s7);\n",
    "p.add_loan(u8); p.add_loan(u9);\n",
    "print(p.total)"
   ]
  },
  {
   "cell_type": "code",
   "execution_count": 37,
   "metadata": {
    "collapsed": false
   },
   "outputs": [
    {
     "name": "stdout",
     "output_type": "stream",
     "text": [
      "Paid off in 28 months at $1200 per month\n",
      "Total paid $32841.40928181964\n"
     ]
    }
   ],
   "source": [
    "p.pay_loans(1200)"
   ]
  },
  {
   "cell_type": "code",
   "execution_count": 38,
   "metadata": {
    "collapsed": false
   },
   "outputs": [
    {
     "name": "stdout",
     "output_type": "stream",
     "text": [
      "Name: institution\n",
      "Principal: 0\n",
      "Interest Rate: 5.00%\n",
      "Total: 0.00 \n",
      "\n",
      "Name: s1\n",
      "Principal: 0\n",
      "Interest Rate: 3.40%\n",
      "Total: 0.00 \n",
      "\n",
      "Name: u2\n",
      "Principal: 0\n",
      "Interest Rate: 6.80%\n",
      "Total: 0.00 \n",
      "\n",
      "Name: s3\n",
      "Principal: 0\n",
      "Interest Rate: 3.40%\n",
      "Total: 0.00 \n",
      "\n",
      "Name: u4\n",
      "Principal: 0\n",
      "Interest Rate: 6.80%\n",
      "Total: 0.00 \n",
      "\n",
      "Name: s5\n",
      "Principal: 0\n",
      "Interest Rate: 3.86%\n",
      "Total: 0.00 \n",
      "\n",
      "Name: u6\n",
      "Principal: 0\n",
      "Interest Rate: 3.86%\n",
      "Total: 0.00 \n",
      "\n",
      "Name: s7\n",
      "Principal: 0\n",
      "Interest Rate: 4.66%\n",
      "Total: 0.00 \n",
      "\n",
      "Name: u8\n",
      "Principal: 0\n",
      "Interest Rate: 4.66%\n",
      "Total: 0.00 \n",
      "\n",
      "Name: u9\n",
      "Principal: 0\n",
      "Interest Rate: 5.84%\n",
      "Total: 0.00 \n",
      "\n",
      "Total Portfolio Size: 0.00\n"
     ]
    }
   ],
   "source": [
    "print(p)"
   ]
  },
  {
   "cell_type": "code",
   "execution_count": null,
   "metadata": {
    "collapsed": true
   },
   "outputs": [],
   "source": []
  }
 ],
 "metadata": {
  "kernelspec": {
   "display_name": "Python 3",
   "language": "python",
   "name": "python3"
  },
  "language_info": {
   "codemirror_mode": {
    "name": "ipython",
    "version": 3
   },
   "file_extension": ".py",
   "mimetype": "text/x-python",
   "name": "python",
   "nbconvert_exporter": "python",
   "pygments_lexer": "ipython3",
   "version": "3.4.3"
  },
  "widgets": {
   "state": {},
   "version": "1.1.2"
  }
 },
 "nbformat": 4,
 "nbformat_minor": 0
}
