{
 "cells": [
  {
   "cell_type": "code",
   "execution_count": 21,
   "metadata": {
    "collapsed": true
   },
   "outputs": [],
   "source": [
    "import numpy as np"
   ]
  },
  {
   "cell_type": "markdown",
   "metadata": {},
   "source": [
    "## Fixed Amount per Year\n",
    "IRA means a Roth IRA for both scenarios"
   ]
  },
  {
   "cell_type": "code",
   "execution_count": 41,
   "metadata": {
    "collapsed": false
   },
   "outputs": [
    {
     "name": "stdout",
     "output_type": "stream",
     "text": [
      "Oh no! You ran out of money 20 years into retirement (out of your desired 35)\n"
     ]
    }
   ],
   "source": [
    "yrs_work = 35              # how many more years will you work\n",
    "yrs_retr = 35              # how many years of retirement do you anticipate\n",
    "int_rate = 0.05            # what interest rate do you expect to get\n",
    "dep_401k = 8000            # how much do you plan to invest in 401k (including employer match)\n",
    "dep_ira = 5500             # how much do you plan to invest in an IRA\n",
    "yrly_ret_spnd = 80000      # how much do you expect to spend in retirement\n",
    "ira_first = True           # do you plan to spend your IRA first?\n",
    "res_401k = 0               # your current 401k balance\n",
    "res_ira = 0                # your current IRA balance\n",
    "tax_rate  = 0.28\n",
    "\n",
    "for i in range(yrs_work + yrs_retr):\n",
    "    res_401k *= (1 + int_rate)\n",
    "    res_ira *= (1 + int_rate)\n",
    "    \n",
    "    if i < yrs_work:\n",
    "        res_401k += dep_401k\n",
    "        res_ira += dep_ira\n",
    "    else:\n",
    "        \n",
    "        if ira_first:\n",
    "            \n",
    "            if res_ira > 0:\n",
    "                res_ira -= yrly_ret_spnd\n",
    "            else:\n",
    "                res_401k -= yrly_ret_spnd /(1-tax_rate)\n",
    "        else:\n",
    "            \n",
    "            if res_401k > 0:\n",
    "                res_401k -= yrly_ret_spnd /(1-tax_rate)\n",
    "            else:\n",
    "                res_ira -= yrly_ret_spnd\n",
    "\n",
    "\n",
    "    if (res_ira + res_401k) < 0:\n",
    "        print(\"Oh no! You ran out of money {0} years into retirement (out of your desired {1})\".format(i-yrs_work, yrs_retr))\n",
    "        break\n",
    "    elif i == (yrs_work + yrs_retr - 1):\n",
    "        print(\"Success! You'll die with ${0:,.2f} unspent\".format(res_401k + res_ira))"
   ]
  },
  {
   "cell_type": "markdown",
   "metadata": {},
   "source": [
    "## Fixed Percentage of Income"
   ]
  },
  {
   "cell_type": "code",
   "execution_count": 53,
   "metadata": {
    "collapsed": false
   },
   "outputs": [
    {
     "name": "stdout",
     "output_type": "stream",
     "text": [
      "Success! You'll die with $47,469.80 unspent\n"
     ]
    }
   ],
   "source": [
    "yrs_work = 35              # how many more years will you work\n",
    "yrs_retr = 35              # how many years of retirement do you anticipate\n",
    "int_rate = 0.055            # what interest rate do you expect to get\n",
    "\n",
    "pct_to_401k = 0.05         # your contribution\n",
    "employer_match = 0.05      # percent of your salary your employer contributes\n",
    "pct_to_ira = 0.05          # pre-tax percentage (actual amount you put in)\n",
    "\n",
    "'''\n",
    "For example, if your salary is $100,000 before taxes and you contribute 5% to your 401k with a 5% match \n",
    "from your employer, the actual amount going into your 401k is $10,000 per year. If you also want to contribute\n",
    "5% of your salary to a Roth IRA, you must do so after paying taxes on that money. So you will still be expected\n",
    "to contribute $5,000 to your account but it will be after-tax money.\n",
    "'''\n",
    "\n",
    "start_sal = 80000\n",
    "end_sal = 150000\n",
    "\n",
    "yrly_ret_spnd = 80000      # how much do you expect to spend in retirement\n",
    "ira_first = True          # do you plan to spend your IRA first?\n",
    "res_401k = 0               # your current 401k balance\n",
    "res_ira = 0                # your current IRA balance\n",
    "tax_rate  = 0.28\n",
    "\n",
    "\n",
    "pct_increase = np.power(end_sal/start_sal, 1/(yrs_work-1))\n",
    "sals = start_sal*pct_increase**range(yrs_work)\n",
    "\n",
    "for i in range(yrs_work + yrs_retr):\n",
    "    res_401k *= (1 + int_rate)\n",
    "    res_ira *= (1 + int_rate)\n",
    "    \n",
    "    if i < yrs_work:\n",
    "        res_401k += sals[i] * (pct_to_401k + employer_match)\n",
    "        res_ira += sals[i] * pct_to_ira\n",
    "    else:\n",
    "        \n",
    "        if ira_first:\n",
    "            \n",
    "            if res_ira > 0:\n",
    "                res_ira -= yrly_ret_spnd\n",
    "            else:\n",
    "                res_401k -= yrly_ret_spnd /(1-tax_rate)\n",
    "        else:\n",
    "            \n",
    "            if res_401k > 0:\n",
    "                res_401k -= yrly_ret_spnd /(1-tax_rate)\n",
    "            else:\n",
    "                res_ira -= yrly_ret_spnd\n",
    "\n",
    "\n",
    "    if (res_ira + res_401k) < 0:\n",
    "        print(\"Oh no! You ran out of money {0} years into retirement (out of your desired {1})\".format(i-yrs_work, yrs_retr))\n",
    "        break\n",
    "    elif i == (yrs_work + yrs_retr - 1):\n",
    "        print(\"Success! You'll die with ${0:,.2f} unspent\".format(res_401k + res_ira))"
   ]
  },
  {
   "cell_type": "code",
   "execution_count": null,
   "metadata": {
    "collapsed": true
   },
   "outputs": [],
   "source": []
  }
 ],
 "metadata": {
  "kernelspec": {
   "display_name": "Python 3",
   "language": "python",
   "name": "python3"
  },
  "language_info": {
   "codemirror_mode": {
    "name": "ipython",
    "version": 3
   },
   "file_extension": ".py",
   "mimetype": "text/x-python",
   "name": "python",
   "nbconvert_exporter": "python",
   "pygments_lexer": "ipython3",
   "version": "3.4.3"
  },
  "widgets": {
   "state": {},
   "version": "1.1.2"
  }
 },
 "nbformat": 4,
 "nbformat_minor": 0
}
